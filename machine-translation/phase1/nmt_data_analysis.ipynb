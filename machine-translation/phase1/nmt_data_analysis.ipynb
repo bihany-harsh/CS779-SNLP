{
  "nbformat": 4,
  "nbformat_minor": 0,
  "metadata": {
    "colab": {
      "provenance": []
    },
    "kernelspec": {
      "name": "python3",
      "display_name": "Python 3"
    },
    "language_info": {
      "name": "python"
    }
  },
  "cells": [
    {
      "cell_type": "code",
      "execution_count": null,
      "metadata": {
        "colab": {
          "base_uri": "https://localhost:8080/"
        },
        "id": "H0NwnSNXMvzb",
        "outputId": "e6b02ec9-3273-47e3-862f-23e6ffb6726f"
      },
      "outputs": [
        {
          "output_type": "stream",
          "name": "stdout",
          "text": [
            "Drive already mounted at /content/drive; to attempt to forcibly remount, call drive.mount(\"/content/drive\", force_remount=True).\n"
          ]
        }
      ],
      "source": [
        "from google.colab import drive\n",
        "drive.mount(\"/content/drive\")"
      ]
    },
    {
      "cell_type": "code",
      "source": [
        "import json\n",
        "with open(\"/content/drive/MyDrive/neural_machine_translation/train_data1.json\", \"r\") as file:\n",
        "  data = json.load(file)"
      ],
      "metadata": {
        "id": "ENjkBFWhNGuq"
      },
      "execution_count": null,
      "outputs": []
    },
    {
      "cell_type": "code",
      "source": [
        "for key in data.keys():\n",
        "  print(key)"
      ],
      "metadata": {
        "colab": {
          "base_uri": "https://localhost:8080/"
        },
        "id": "ARTrszzENYVS",
        "outputId": "d784abbe-bf66-4988-eeaa-70e3712d8dcd"
      },
      "execution_count": null,
      "outputs": [
        {
          "output_type": "stream",
          "name": "stdout",
          "text": [
            "English-Bengali\n",
            "English-Gujarati\n",
            "English-Hindi\n",
            "English-Kannada\n",
            "English-Malayalam\n",
            "English-Tamil\n",
            "English-Telgu\n"
          ]
        }
      ]
    },
    {
      "cell_type": "code",
      "source": [
        "# English-Hindi\n",
        "eng_hi_source_sent_train = []\n",
        "eng_hi_target_sent_train = []\n",
        "eng_hi_id_train = []\n",
        "\n",
        "for lang_pair, lang_data in data.items():\n",
        "  if lang_pair == \"English-Hindi\":\n",
        "    print(f\"Language pair: {lang_pair}\")\n",
        "    for d_type, d_entry in lang_data.items():\n",
        "      print(f\"  Data type: {d_type}\")\n",
        "      for id, pair in d_entry.items():\n",
        "        if d_type == \"Train\":\n",
        "          eng_hi_source_sent_train.append(pair[\"source\"])\n",
        "          eng_hi_target_sent_train.append(pair[\"target\"])\n",
        "          eng_hi_id_train.append(id)"
      ],
      "metadata": {
        "colab": {
          "base_uri": "https://localhost:8080/"
        },
        "id": "YLi5b5BINtUl",
        "outputId": "2a6a9440-51fb-419d-c8d0-22887639020f"
      },
      "execution_count": null,
      "outputs": [
        {
          "output_type": "stream",
          "name": "stdout",
          "text": [
            "Language pair: English-Hindi\n",
            "  Data type: Train\n"
          ]
        }
      ]
    },
    {
      "cell_type": "code",
      "source": [
        "print(f\"number of sentence pair: {len(eng_hi_source_sent_train)}, {len(eng_hi_id_train)}\")"
      ],
      "metadata": {
        "colab": {
          "base_uri": "https://localhost:8080/"
        },
        "id": "Qln30RGEP3tV",
        "outputId": "6925e62f-625a-488c-9266-55f4d06416ea"
      },
      "execution_count": null,
      "outputs": [
        {
          "output_type": "stream",
          "name": "stdout",
          "text": [
            "number of sentence pair: 80797, 80797\n"
          ]
        }
      ]
    },
    {
      "cell_type": "code",
      "source": [
        "print(eng_hi_source_sent_train[0])\n",
        "print(eng_hi_target_sent_train[0])"
      ],
      "metadata": {
        "colab": {
          "base_uri": "https://localhost:8080/"
        },
        "id": "HVuXs4pCQIAN",
        "outputId": "af84254e-5616-4d3e-aab4-7568f61df345"
      },
      "execution_count": null,
      "outputs": [
        {
          "output_type": "stream",
          "name": "stdout",
          "text": [
            "cancel everything on my calendar\n",
            "मेरे कैलेंडर पर सब कुछ रद्द करें\n"
          ]
        }
      ]
    },
    {
      "cell_type": "code",
      "source": [
        "!git clone \"https://github.com/anoopkunchukuttan/indic_nlp_library\"\n",
        "!git clone https://github.com/anoopkunchukuttan/indic_nlp_resources.git\n",
        "!pip install Morfessor"
      ],
      "metadata": {
        "colab": {
          "base_uri": "https://localhost:8080/"
        },
        "id": "6P3drDfsQUKG",
        "outputId": "120c2727-4383-4c1a-8d52-e267ace9444c"
      },
      "execution_count": null,
      "outputs": [
        {
          "output_type": "stream",
          "name": "stdout",
          "text": [
            "fatal: destination path 'indic_nlp_library' already exists and is not an empty directory.\n",
            "fatal: destination path 'indic_nlp_resources' already exists and is not an empty directory.\n",
            "Requirement already satisfied: Morfessor in /usr/local/lib/python3.10/dist-packages (2.0.6)\n"
          ]
        }
      ]
    },
    {
      "cell_type": "code",
      "source": [
        "INDIC_NLP_LIB_HOME = \"/content/indic_nlp_library\"\n",
        "INDIC_NLP_RESOURCES = \"/content/indic_nlp_resources\""
      ],
      "metadata": {
        "id": "wRS-iF8RSeJM"
      },
      "execution_count": null,
      "outputs": []
    },
    {
      "cell_type": "code",
      "source": [
        "import sys\n",
        "sys.path.append(r\"{}\".format(INDIC_NLP_LIB_HOME))"
      ],
      "metadata": {
        "id": "KpsTuEfJToWm"
      },
      "execution_count": null,
      "outputs": []
    },
    {
      "cell_type": "code",
      "source": [
        "from indicnlp import common, loader\n",
        "common.set_resources_path(INDIC_NLP_RESOURCES)\n",
        "loader.load()"
      ],
      "metadata": {
        "id": "sEVcMC5RTzm4"
      },
      "execution_count": null,
      "outputs": []
    },
    {
      "cell_type": "markdown",
      "source": [
        "###TEXT NORMALIZATION and SENTENCE TOKENIZATION and WORD TOKENIZATION"
      ],
      "metadata": {
        "id": "Ui4EmBHMU0_m"
      }
    },
    {
      "cell_type": "code",
      "source": [
        "from indicnlp.normalize.indic_normalize import BaseNormalizer, IndicNormalizerFactory\n",
        "\n",
        "factory = IndicNormalizerFactory()\n",
        "base_norm = BaseNormalizer(\"hi\", remove_nuktas=True)\n",
        "fact_norm = factory.get_normalizer(\"hi\", remove_nuktas=True)\n",
        "\n",
        "\n",
        "input_text = \"\\u0958 \\u0915\\u093c\"\n",
        "output_base_text = base_norm.normalize(input_text)\n",
        "output_fact_text = fact_norm.normalize(input_text)\n",
        "\n",
        "print(f\"Input: {input_text}\")\n",
        "print(f\"Factory normalize: {output_fact_text}\")\n",
        "print(f\"Base normalize: {output_base_text}\")"
      ],
      "metadata": {
        "colab": {
          "base_uri": "https://localhost:8080/"
        },
        "id": "LKcKxNIET_uB",
        "outputId": "05404f02-406f-4f0f-d54f-39c4e922d516"
      },
      "execution_count": null,
      "outputs": [
        {
          "output_type": "stream",
          "name": "stdout",
          "text": [
            "Input: क़ क़\n",
            "Factory normalize: क क\n",
            "Base normalize: क़ क़\n"
          ]
        }
      ]
    },
    {
      "cell_type": "code",
      "source": [
        "from indicnlp.tokenize import sentence_tokenize\n",
        "\n",
        "hindi_string = \"\"\"तो क्या विश्व कप 2019 में मैच का बॉस टॉस है? यानी मैच में हार-जीत में \\\n",
        "टॉस की भूमिका अहम है? आप ऐसा सोच सकते हैं। विश्वकप के अपने-अपने पहले मैच में बुरी तरह हारने वाली एशिया की दो टीमों \\\n",
        "पाकिस्तान और श्रीलंका के कप्तान ने हालांकि अपने हार के पीछे टॉस की दलील तो नहीं दी, लेकिन यह जरूर कहा था कि वह एक अहम टॉस हार गए थे।\"\"\"\n",
        "\n",
        "sents = sentence_tokenize.sentence_split(hindi_string, \"hi\")\n",
        "for sent in sents:\n",
        "  print(sent)"
      ],
      "metadata": {
        "colab": {
          "base_uri": "https://localhost:8080/"
        },
        "id": "KSFDTUTRWojH",
        "outputId": "d9ac1556-a31b-48a0-e2e8-40f4793d96cc"
      },
      "execution_count": null,
      "outputs": [
        {
          "output_type": "stream",
          "name": "stdout",
          "text": [
            "तो क्या विश्व कप 2019 में मैच का बॉस टॉस है?\n",
            "यानी मैच में हार-जीत में टॉस की भूमिका अहम है?\n",
            "आप ऐसा सोच सकते हैं।\n",
            "विश्वकप के अपने-अपने पहले मैच में बुरी तरह हारने वाली एशिया की दो टीमों पाकिस्तान और श्रीलंका के कप्तान ने हालांकि अपने हार के पीछे टॉस की दलील तो नहीं दी, लेकिन यह जरूर कहा था कि वह एक अहम टॉस हार गए थे।\n"
          ]
        }
      ]
    },
    {
      "cell_type": "code",
      "source": [
        "from indicnlp.tokenize import indic_tokenize\n",
        "\n",
        "hindi_string = 'सुनो, कुछ आवाज़ आ रही है। फोन?'\n",
        "print('Input String: {}'.format(hindi_string))\n",
        "print('Tokens: ')\n",
        "print(type(indic_tokenize.trivial_tokenize(hindi_string)))\n",
        "for t in indic_tokenize.trivial_tokenize(hindi_string):\n",
        "  print(t)"
      ],
      "metadata": {
        "colab": {
          "base_uri": "https://localhost:8080/"
        },
        "id": "nXM6ZTAHXt74",
        "outputId": "18657a06-8814-4568-ebac-52257752ebb6"
      },
      "execution_count": null,
      "outputs": [
        {
          "output_type": "stream",
          "name": "stdout",
          "text": [
            "Input String: सुनो, कुछ आवाज़ आ रही है। फोन?\n",
            "Tokens: \n",
            "<class 'list'>\n",
            "सुनो\n",
            ",\n",
            "कुछ\n",
            "आवाज़\n",
            "आ\n",
            "रही\n",
            "है\n",
            "।\n",
            "फोन\n",
            "?\n"
          ]
        }
      ]
    },
    {
      "cell_type": "code",
      "source": [
        "guj_string = \"વીતેલા દિવસોમાં આપણે કેટલાય ઉત્સવો ઉજવ્યા. હજી ગઇકાલે જ પૂરા હિંદુસ્તાનમાં શ્રીકૃષ્ણ જન્મોત્સવ ઉજવવામાં આવ્યો.\"\n",
        "print('Input String: {}'.format(guj_string))\n",
        "print('Tokens: ')\n",
        "print(indic_tokenize.trivial_tokenize(guj_string))\n",
        "for t in indic_tokenize.trivial_tokenize(guj_string):\n",
        "  print(t)"
      ],
      "metadata": {
        "colab": {
          "base_uri": "https://localhost:8080/"
        },
        "id": "5Bgp5rUd9hNf",
        "outputId": "60d4d3d8-7a3c-4c55-cc4e-361fc6d85907"
      },
      "execution_count": null,
      "outputs": [
        {
          "output_type": "stream",
          "name": "stdout",
          "text": [
            "Input String: વીતેલા દિવસોમાં આપણે કેટલાય ઉત્સવો ઉજવ્યા. હજી ગઇકાલે જ પૂરા હિંદુસ્તાનમાં શ્રીકૃષ્ણ જન્મોત્સવ ઉજવવામાં આવ્યો.\n",
            "Tokens: \n",
            "['વીતેલા', 'દિવસોમાં', 'આપણે', 'કેટલાય', 'ઉત્સવો', 'ઉજવ્યા', '.', 'હજી', 'ગઇકાલે', 'જ', 'પૂરા', 'હિંદુસ્તાનમાં', 'શ્રીકૃષ્ણ', 'જન્મોત્સવ', 'ઉજવવામાં', 'આવ્યો', '.']\n",
            "વીતેલા\n",
            "દિવસોમાં\n",
            "આપણે\n",
            "કેટલાય\n",
            "ઉત્સવો\n",
            "ઉજવ્યા\n",
            ".\n",
            "હજી\n",
            "ગઇકાલે\n",
            "જ\n",
            "પૂરા\n",
            "હિંદુસ્તાનમાં\n",
            "શ્રીકૃષ્ણ\n",
            "જન્મોત્સવ\n",
            "ઉજવવામાં\n",
            "આવ્યો\n",
            ".\n"
          ]
        }
      ]
    },
    {
      "cell_type": "code",
      "source": [
        "from indicnlp.tokenize import indic_detokenize\n",
        "\n",
        "indic_string='\" सुनो , कुछ आवाज़ आ रही है . \" , उसने कहा । '\n",
        "\n",
        "print(f'Input String: {indic_string}')\n",
        "output_string = indic_detokenize.trivial_detokenize(indic_string,lang='hi')\n",
        "print(f'Detokenized String: {output_string}')"
      ],
      "metadata": {
        "colab": {
          "base_uri": "https://localhost:8080/"
        },
        "id": "jFFV6NLhaU6Q",
        "outputId": "614dfd2c-6e5f-4fa1-813b-fbc74aedd512"
      },
      "execution_count": null,
      "outputs": [
        {
          "output_type": "stream",
          "name": "stdout",
          "text": [
            "Input String: \" सुनो , कुछ आवाज़ आ रही है . \" , उसने कहा । \n",
            "Detokenized String: \"सुनो, कुछ आवाज़ आ रही है.\", उसने कहा। \n"
          ]
        }
      ]
    },
    {
      "cell_type": "markdown",
      "source": [
        "###Transliteration"
      ],
      "metadata": {
        "id": "3FjCFEPNb1rp"
      }
    },
    {
      "cell_type": "code",
      "source": [
        "from indicnlp.transliterate.unicode_transliterate import UnicodeIndicTransliterator\n",
        "# input_text='राजस्थान'\n",
        "input_text='രാജസ്ഥാന'\n",
        "# input_text='රාජස්ථාන'\n",
        "print(UnicodeIndicTransliterator.transliterate(input_text,\"ml\",\"ta\"))"
      ],
      "metadata": {
        "colab": {
          "base_uri": "https://localhost:8080/"
        },
        "id": "lcqxgtpbd9o7",
        "outputId": "3e38b2b7-549b-4924-e4fd-d67467090820"
      },
      "execution_count": null,
      "outputs": [
        {
          "output_type": "stream",
          "name": "stdout",
          "text": [
            "ராஜஸ்தாந\n"
          ]
        }
      ]
    },
    {
      "cell_type": "code",
      "source": [
        "from indicnlp.transliterate.unicode_transliterate import ItransTransliterator\n",
        "\n",
        "# input_text='राजस्थान'\n",
        "input_text='ஆசிரியர்கள்'\n",
        "lang='ta'\n",
        "\n",
        "print(ItransTransliterator.to_itrans(input_text,lang))"
      ],
      "metadata": {
        "colab": {
          "base_uri": "https://localhost:8080/"
        },
        "id": "2sRuvP2geYuP",
        "outputId": "ab7a8393-765e-4893-835e-f3fd60ba2f2e"
      },
      "execution_count": null,
      "outputs": [
        {
          "output_type": "stream",
          "name": "stdout",
          "text": [
            "aachiriyarkald\n"
          ]
        }
      ]
    },
    {
      "cell_type": "code",
      "source": [
        "from indicnlp.transliterate.unicode_transliterate import ItransTransliterator\n",
        "\n",
        "input_text='kahaa jaanaa hai?'\n",
        "lang='hi'\n",
        "x=ItransTransliterator.from_itrans(input_text,lang)\n",
        "print(x)"
      ],
      "metadata": {
        "colab": {
          "base_uri": "https://localhost:8080/"
        },
        "id": "lfkdu8GQe4dy",
        "outputId": "a5ce0d5c-6822-4798-a101-f95ad738d291"
      },
      "execution_count": null,
      "outputs": [
        {
          "output_type": "stream",
          "name": "stdout",
          "text": [
            "कहा जाना है?\n"
          ]
        }
      ]
    },
    {
      "cell_type": "markdown",
      "source": [
        "LEXICAL SIMILARITY"
      ],
      "metadata": {
        "id": "AANnhxVNgY0g"
      }
    },
    {
      "cell_type": "code",
      "source": [
        "from indicnlp.script import indic_scripts as isc\n",
        "from indicnlp.transliterate.unicode_transliterate import UnicodeIndicTransliterator\n",
        "\n",
        "lang1_str='पिछले दिनों हम लोगों ने कई उत्सव मनाये. कल, हिन्दुस्तान भर में श्री कृष्ण जन्म-महोत्सव मनाया गया.'\n",
        "lang2_str='વીતેલા દિવસોમાં આપણે કેટલાય ઉત્સવો ઉજવ્યા. હજી ગઇકાલે જ પૂરા હિંદુસ્તાનમાં શ્રીકૃષ્ણ જન્મોત્સવ ઉજવવામાં આવ્યો.'\n",
        "lang1='hi'\n",
        "lang2='gu'\n",
        "\n",
        "lcsr, len1, len2 = isc.lcsr_indic(lang1_str,lang2_str,lang1,lang2)\n",
        "\n",
        "print('{} string: {}'.format(lang1, lang1_str))\n",
        "print('{} string: {}'.format(lang2, UnicodeIndicTransliterator.transliterate(lang2_str,lang2,lang1)))\n",
        "print('Both strings are shown in Devanagari script using script conversion for readability.')\n",
        "print('LCSR: {}'.format(lcsr))"
      ],
      "metadata": {
        "colab": {
          "base_uri": "https://localhost:8080/"
        },
        "id": "nMJ8CkvRgXO1",
        "outputId": "442b6188-ccc7-492a-e974-25e3199f948c"
      },
      "execution_count": null,
      "outputs": [
        {
          "output_type": "stream",
          "name": "stdout",
          "text": [
            "hi string: पिछले दिनों हम लोगों ने कई उत्सव मनाये. कल, हिन्दुस्तान भर में श्री कृष्ण जन्म-महोत्सव मनाया गया.\n",
            "gu string: वीतेला दिवसोमां आपणे केटलाय उत्सवो उजव्या. हजी गइकाले ज पूरा हिंदुस्तानमां श्रीकृष्ण जन्मोत्सव उजववामां आव्यो.\n",
            "Both strings are shown in Devanagari script using script conversion for readability.\n",
            "LCSR: 0.5545454545454546\n"
          ]
        }
      ]
    },
    {
      "cell_type": "markdown",
      "source": [
        "SYLLABIFICATION"
      ],
      "metadata": {
        "id": "USyCCZoehKcb"
      }
    },
    {
      "cell_type": "code",
      "source": [
        "from indicnlp.syllable import syllabifier\n",
        "\n",
        "w='जगदीशचंद्र'\n",
        "lang='hi'\n",
        "\n",
        "print(' '.join(syllabifier.orthographic_syllabify(w,lang)))"
      ],
      "metadata": {
        "colab": {
          "base_uri": "https://localhost:8080/"
        },
        "id": "NM2fjPf2hEjW",
        "outputId": "2e0bf02a-cc50-4fb4-878f-b33199fb17e4"
      },
      "execution_count": null,
      "outputs": [
        {
          "output_type": "stream",
          "name": "stdout",
          "text": [
            "ज ग दी श च ंद्र\n"
          ]
        }
      ]
    },
    {
      "cell_type": "markdown",
      "source": [
        "WORD-SEGMENTATION (MORPHOLOGY)"
      ],
      "metadata": {
        "id": "h9IN6cHwhYXS"
      }
    },
    {
      "cell_type": "code",
      "source": [
        "from indicnlp.morph import unsupervised_morph\n",
        "from indicnlp import common\n",
        "\n",
        "analyzer=unsupervised_morph.UnsupervisedMorphAnalyzer('mr') # marathi\n",
        "\n",
        "indic_string='आपल्या हिरड्यांच्या आणि दातांच्यामध्ये जीवाणू असतात .'\n",
        "\n",
        "analyzes_tokens=analyzer.morph_analyze_document(indic_string.split(' '))\n",
        "\n",
        "for w in analyzes_tokens:\n",
        "    print(w)"
      ],
      "metadata": {
        "colab": {
          "base_uri": "https://localhost:8080/"
        },
        "id": "IAtDlGt0hX5F",
        "outputId": "981f831e-d519-4708-ad21-3074735e4a28"
      },
      "execution_count": null,
      "outputs": [
        {
          "output_type": "stream",
          "name": "stdout",
          "text": [
            "आपल्या\n",
            "हिरड्या\n",
            "ंच्या\n",
            "आणि\n",
            "दाता\n",
            "ंच्या\n",
            "मध्ये\n",
            "जीवाणू\n",
            "असतात\n",
            ".\n"
          ]
        }
      ]
    },
    {
      "cell_type": "code",
      "source": [
        "!pip install spacy\n",
        "!python -m spacy download en_core_web_sm"
      ],
      "metadata": {
        "id": "KlkAG4chBFsl"
      },
      "execution_count": null,
      "outputs": []
    },
    {
      "cell_type": "markdown",
      "source": [
        "##TEXT PROCESSING"
      ],
      "metadata": {
        "id": "USn07YZi6bU6"
      }
    },
    {
      "cell_type": "markdown",
      "source": [
        "###English"
      ],
      "metadata": {
        "id": "2z2jCIWX7Jk5"
      }
    },
    {
      "cell_type": "code",
      "source": [
        "import spacy\n",
        "eng_nlp = spacy.load(\"en_core_web_sm\")\n",
        "from indicnlp.tokenize import indic_tokenize\n",
        "\n",
        "class Language:\n",
        "  def __init__(self, lang=\"en\"):\n",
        "    self.language = lang\n",
        "    self.word2idx = {}\n",
        "    self.idx2word = {0: \"<SOS>\", 1:\"<EOS>\"}\n",
        "    self.n_words = 2\n",
        "    self.word_count = {}\n",
        "\n",
        "  def add_word(self, word):\n",
        "    if word not in self.word2idx:\n",
        "      self.word2idx[word] = self.n_words\n",
        "      self.idx2word[self.n_words] = word\n",
        "      self.word_count[word] = 1\n",
        "      self.n_words += 1\n",
        "    else:\n",
        "      self.word_count[word] += 1\n",
        "\n",
        "  def add_sentence(self, sent):\n",
        "    tokens = []\n",
        "    if self.language != \"en\":\n",
        "      tokens = [token.text for token in eng_nlp(sent)]\n",
        "    else:\n",
        "      tokens = [token for token in indic_tokenize.trivial_tokenize(sent)]\n",
        "      # tokens = [token for token in sent.split(\" \")]\n",
        "\n",
        "    for token in tokens:\n",
        "      self.add_word(token)\n",
        "\n",
        "  def idx_from_sentence(self, sentence):\n",
        "      return [self.word2idx[word] for word in sentence.split(' ') if word in self.word2idx]\n",
        "\n",
        "  def sentence_from_idx(self, indices):\n",
        "      return ' '.join([self.idx2word[idx] for idx in indices])"
      ],
      "metadata": {
        "id": "ybeukkjV6Z2f"
      },
      "execution_count": null,
      "outputs": []
    },
    {
      "cell_type": "code",
      "source": [
        "en_lang = Language(lang=\"en\")\n",
        "hi_lang = Language(lang=\"hi\")\n",
        "# for sent in eng_hi_source_sent_train:\n",
        "#   en_lang.add_sentence(sent)\n",
        "# for sent in eng_hi_target_sent_train:\n",
        "#   hi_lang.add_sentence(sent)"
      ],
      "metadata": {
        "id": "yR7a0caIDBop"
      },
      "execution_count": null,
      "outputs": []
    },
    {
      "cell_type": "code",
      "source": [
        "# print(f\"Vocab size of english train set in eng_hi: {en_lang.n_words}\")\n",
        "# print(f\"Vocab size of hindi train set in eng_hi: {hi_lang.n_words}\")"
      ],
      "metadata": {
        "colab": {
          "base_uri": "https://localhost:8080/"
        },
        "id": "0ZKbkBoPDWou",
        "outputId": "efaf6214-ca3d-436f-a185-39157a792f3c"
      },
      "execution_count": null,
      "outputs": [
        {
          "output_type": "stream",
          "name": "stdout",
          "text": [
            "Vocab size of english train set in eng_hi: 67449\n",
            "Vocab size of hindi train set in eng_hi: 75775\n"
          ]
        }
      ]
    },
    {
      "cell_type": "code",
      "source": [
        "# import pickle\n",
        "\n",
        "# # Save the en_lang instance\n",
        "# with open('/content/drive/MyDrive/neural_machine_translation/saves/language_instances/en_lang.pkl', 'wb') as f:\n",
        "#     pickle.dump(en_lang, f)\n",
        "\n",
        "# # Save the hi_lang instance\n",
        "# with open('/content/drive/MyDrive/neural_machine_translation/saves/language_instances/hi_lang.pkl', 'wb') as f:\n",
        "#     pickle.dump(hi_lang, f)\n"
      ],
      "metadata": {
        "id": "izj_uPOjGbh4"
      },
      "execution_count": null,
      "outputs": []
    },
    {
      "cell_type": "code",
      "source": [
        "# Load the en_lang instance\n",
        "import pickle\n",
        "with open('/content/drive/MyDrive/neural_machine_translation/saves/language_instances/en_lang.pkl', 'rb') as f:\n",
        "    en_lang = pickle.load(f)\n",
        "\n",
        "# Load the hi_lang instance\n",
        "with open('/content/drive/MyDrive/neural_machine_translation/saves/language_instances/hi_lang.pkl', 'rb') as f:\n",
        "    hi_lang = pickle.load(f)"
      ],
      "metadata": {
        "id": "UbkPsWn5ISE2"
      },
      "execution_count": 66,
      "outputs": []
    },
    {
      "cell_type": "code",
      "source": [
        "en_lang.idx2word[156]"
      ],
      "metadata": {
        "colab": {
          "base_uri": "https://localhost:8080/",
          "height": 36
        },
        "id": "22-nvn-uKtFc",
        "outputId": "3beace29-afb2-4c49-af65-42ca8e6f2ecb"
      },
      "execution_count": 67,
      "outputs": [
        {
          "output_type": "execute_result",
          "data": {
            "text/plain": [
              "'Andhra'"
            ],
            "application/vnd.google.colaboratory.intrinsic+json": {
              "type": "string"
            }
          },
          "metadata": {},
          "execution_count": 67
        }
      ]
    },
    {
      "cell_type": "code",
      "source": [
        "hi_lang.idx2word[156]"
      ],
      "metadata": {
        "colab": {
          "base_uri": "https://localhost:8080/",
          "height": 36
        },
        "id": "y07oWN0UKvvn",
        "outputId": "bfee4130-a75a-4ac3-94af-d8a845263b64"
      },
      "execution_count": 68,
      "outputs": [
        {
          "output_type": "execute_result",
          "data": {
            "text/plain": [
              "'उम्मीदवार'"
            ],
            "application/vnd.google.colaboratory.intrinsic+json": {
              "type": "string"
            }
          },
          "metadata": {},
          "execution_count": 68
        }
      ]
    },
    {
      "cell_type": "code",
      "source": [
        "print(f\"Vocab size of english train set in eng_hi: {en_lang.n_words}\")\n",
        "print(f\"Vocab size of hindi train set in eng_hi: {hi_lang.n_words}\")"
      ],
      "metadata": {
        "colab": {
          "base_uri": "https://localhost:8080/"
        },
        "id": "554hqjNDLLG4",
        "outputId": "3f221224-92b7-407f-f5cc-edc2ecb4404d"
      },
      "execution_count": 69,
      "outputs": [
        {
          "output_type": "stream",
          "name": "stdout",
          "text": [
            "Vocab size of english train set in eng_hi: 67449\n",
            "Vocab size of hindi train set in eng_hi: 75775\n"
          ]
        }
      ]
    },
    {
      "cell_type": "code",
      "source": [],
      "metadata": {
        "id": "tE_DyObpllg-"
      },
      "execution_count": null,
      "outputs": []
    }
  ]
}